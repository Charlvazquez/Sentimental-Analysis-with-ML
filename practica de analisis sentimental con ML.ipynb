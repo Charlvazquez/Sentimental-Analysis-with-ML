{
 "cells": [
  {
   "cell_type": "code",
   "execution_count": 1,
   "metadata": {},
   "outputs": [],
   "source": [
    "#buscamos el sentimiento del texto desde un sitio web\n",
    "#primero ingresamos nuestras librerias\n",
    "import nltk\n",
    "from newspaper import Article\n",
    "from textblob import TextBlob"
   ]
  },
  {
   "cell_type": "code",
   "execution_count": 2,
   "metadata": {},
   "outputs": [],
   "source": [
    "#conseguiremos el articulo\n",
    "url = 'https://everythingcomputerscience.com'\n",
    "article = Article(url)"
   ]
  },
  {
   "cell_type": "code",
   "execution_count": 3,
   "metadata": {},
   "outputs": [
    {
     "name": "stderr",
     "output_type": "stream",
     "text": [
      "[nltk_data] Downloading package punkt to\n",
      "[nltk_data]     C:\\Users\\carlos\\AppData\\Roaming\\nltk_data...\n",
      "[nltk_data]   Package punkt is already up-to-date!\n"
     ]
    }
   ],
   "source": [
    "article.download()\n",
    "article.parse()\n",
    "nltk.download('punkt')\n",
    "article.nlp()"
   ]
  },
  {
   "cell_type": "code",
   "execution_count": 4,
   "metadata": {},
   "outputs": [
    {
     "name": "stdout",
     "output_type": "stream",
     "text": [
      "Computer Science (CS)Computer Science (CS) is the study of the principles and use of computers.\n",
      "Simply put it's the science that deals with the theory and methods of processing information in digital computers, the design of computer hardware and software, and the applications of computers.\n",
      "A computer is simply a tool for a computer scientist, like a telescope for an astronomer.\n",
      "Teach yourself !\n"
     ]
    }
   ],
   "source": [
    "#conseguiremos la parte mas importante de nuestro article\n",
    "text = article.summary\n",
    "\n",
    "print(text)"
   ]
  },
  {
   "cell_type": "code",
   "execution_count": 5,
   "metadata": {},
   "outputs": [
    {
     "name": "stdout",
     "output_type": "stream",
     "text": [
      "0.0\n"
     ]
    }
   ],
   "source": [
    "#crear un ojecto TextBlob\n",
    "obj = TextBlob(text)\n",
    "\n",
    "#esto nos regresara un valor entre -1 y 1\n",
    "sentiment = obj.sentiment.polarity\n",
    "print(sentiment)"
   ]
  },
  {
   "cell_type": "code",
   "execution_count": 6,
   "metadata": {},
   "outputs": [
    {
     "name": "stdout",
     "output_type": "stream",
     "text": [
      "El texto es neutral\n"
     ]
    }
   ],
   "source": [
    "if sentiment == 0:\n",
    "    print('El texto es neutral')\n",
    "elif sentiment > 0:\n",
    "    print('el texto es positivo')\n",
    "else:\n",
    "    print('el texto es negativo')"
   ]
  },
  {
   "cell_type": "code",
   "execution_count": null,
   "metadata": {},
   "outputs": [],
   "source": []
  }
 ],
 "metadata": {
  "kernelspec": {
   "display_name": "Python 3",
   "language": "python",
   "name": "python3"
  },
  "language_info": {
   "codemirror_mode": {
    "name": "ipython",
    "version": 3
   },
   "file_extension": ".py",
   "mimetype": "text/x-python",
   "name": "python",
   "nbconvert_exporter": "python",
   "pygments_lexer": "ipython3",
   "version": "3.7.6"
  }
 },
 "nbformat": 4,
 "nbformat_minor": 4
}
